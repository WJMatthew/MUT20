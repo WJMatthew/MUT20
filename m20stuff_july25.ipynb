{
 "cells": [
  {
   "cell_type": "code",
   "execution_count": 1,
   "metadata": {},
   "outputs": [],
   "source": [
    "from M20tools.MUTScraper20 import Player, PlayerHandler, JSONParser\n",
    "import pandas as pd\n",
    "%load_ext autoreload\n",
    "%autoreload 2\n",
    "\n",
    "date='July25-2019'\n",
    "ph = PlayerHandler(date=date)\n",
    "jp = JSONParser(date=date)\n",
    "\n",
    "ph.handle_players()"
   ]
  },
  {
   "cell_type": "code",
   "execution_count": null,
   "metadata": {},
   "outputs": [],
   "source": [
    "jp.load_json()\n",
    "jp.parse_json_items()\n",
    "players_to_add = ['/20/players/10128325', '/20/players/10111214', '/20/players/10110436']\n",
    "jp.add_more_players(players_to_add)\n",
    "jp.jsons_to_dataframe()\n",
    "jp.save_to_csv()"
   ]
  },
  {
   "cell_type": "code",
   "execution_count": null,
   "metadata": {},
   "outputs": [],
   "source": []
  },
  {
   "cell_type": "code",
   "execution_count": 192,
   "metadata": {
    "collapsed": true
   },
   "outputs": [],
   "source": [
    "# TODO:\n",
    "# TP rates\n",
    "# interactive table? filter by position, sort by __ (ex. SPD)\n",
    "# implement a way to stop this early and still save file (or if IP starts getting bounced save and throw error)"
   ]
  },
  {
   "cell_type": "code",
   "execution_count": 3,
   "metadata": {
    "collapsed": true
   },
   "outputs": [],
   "source": []
  }
 ],
 "metadata": {
  "kernelspec": {
   "display_name": "Python 3",
   "language": "python",
   "name": "python3"
  },
  "language_info": {
   "codemirror_mode": {
    "name": "ipython",
    "version": 3
   },
   "file_extension": ".py",
   "mimetype": "text/x-python",
   "name": "python",
   "nbconvert_exporter": "python",
   "pygments_lexer": "ipython3",
   "version": "3.6.3"
  }
 },
 "nbformat": 4,
 "nbformat_minor": 2
}
